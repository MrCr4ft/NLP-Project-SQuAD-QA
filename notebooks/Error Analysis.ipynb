{
 "cells": [
  {
   "cell_type": "code",
   "execution_count": 9,
   "id": "f75e2851-4d61-41ab-a79d-f1b8c853857b",
   "metadata": {},
   "outputs": [],
   "source": [
    "import json\n",
    "\n",
    "validation_set_eval = json.load(open(\"./preprocessed_dataset/validation_set_eval.json\"))\n",
    "validation_set_pred = json.load(open(\"./predictions/validation_set_predictions.json\"))\n",
    "\n",
    "training_set_eval = json.load(open(\"./preprocessed_dataset/training_set_eval.json\"))\n",
    "training_set_pred = json.load(open(\"./predictions/training_set_predictions_sample.json\"))"
   ]
  },
  {
   "cell_type": "code",
   "execution_count": 11,
   "id": "6bab193e-6606-40e2-8389-7ec8f8455e27",
   "metadata": {},
   "outputs": [
    {
     "data": {
      "text/plain": [
       "'\\nfor key in validation_set_pred:\\n    real_answer = validation_set_eval[key][\\'answer\\'][0][\\'text\\']\\n    predicted_answer = validation_set_pred[key]\\n    context = validation_set_eval[key][\\'context\\']\\n    question = validation_set_eval[key][\\'question\\']\\n    if real_answer != predicted_answer:\\n        print(\"Context: \", context)\\n        print(\"Question: \", question)\\n        print(\"Real answer: \", real_answer)\\n        print(\"Predicted answer: \", predicted_answer, end=\"\\n\\n\")\\n'"
      ]
     },
     "execution_count": 11,
     "metadata": {},
     "output_type": "execute_result"
    }
   ],
   "source": [
    "\"\"\"\n",
    "for key in validation_set_pred:\n",
    "    real_answer = validation_set_eval[key]['answer'][0]['text']\n",
    "    predicted_answer = validation_set_pred[key]\n",
    "    context = validation_set_eval[key]['context']\n",
    "    question = validation_set_eval[key]['question']\n",
    "    if real_answer != predicted_answer:\n",
    "        print(\"Context: \", context)\n",
    "        print(\"Question: \", question)\n",
    "        print(\"Real answer: \", real_answer)\n",
    "        print(\"Predicted answer: \", predicted_answer, end=\"\\n\\n\")\n",
    "\"\"\""
   ]
  },
  {
   "cell_type": "code",
   "execution_count": 12,
   "id": "bc8edd0d-16eb-4afb-9e5c-3063095073bf",
   "metadata": {},
   "outputs": [
    {
     "data": {
      "text/plain": [
       "'\\nfor key in training_set_pred:\\n    real_answer = training_set_eval[key][\\'answer\\'][0][\\'text\\']\\n    predicted_answer = training_set_pred[key]\\n    context = training_set_eval[key][\\'context\\']\\n    question = training_set_eval[key][\\'question\\']\\n    if real_answer != predicted_answer:\\n        print(\"Context: \", context)\\n        print(\"Question: \", question)\\n        print(\"Real answer: \", real_answer)\\n        print(\"Predicted answer: \", predicted_answer, end=\"\\n\\n\")\\n'"
      ]
     },
     "execution_count": 12,
     "metadata": {},
     "output_type": "execute_result"
    }
   ],
   "source": [
    "\"\"\"\n",
    "for key in training_set_pred:\n",
    "    real_answer = training_set_eval[key]['answer'][0]['text']\n",
    "    predicted_answer = training_set_pred[key]\n",
    "    context = training_set_eval[key]['context']\n",
    "    question = training_set_eval[key]['question']\n",
    "    if real_answer != predicted_answer:\n",
    "        print(\"Context: \", context)\n",
    "        print(\"Question: \", question)\n",
    "        print(\"Real answer: \", real_answer)\n",
    "        print(\"Predicted answer: \", predicted_answer, end=\"\\n\\n\")\n",
    "\"\"\""
   ]
  },
  {
   "cell_type": "code",
   "execution_count": null,
   "id": "aa8ac2ba-f750-4777-bec4-1a1bd9c242cb",
   "metadata": {},
   "outputs": [],
   "source": []
  }
 ],
 "metadata": {
  "kernelspec": {
   "display_name": "Python 3 (ipykernel)",
   "language": "python",
   "name": "python3"
  },
  "language_info": {
   "codemirror_mode": {
    "name": "ipython",
    "version": 3
   },
   "file_extension": ".py",
   "mimetype": "text/x-python",
   "name": "python",
   "nbconvert_exporter": "python",
   "pygments_lexer": "ipython3",
   "version": "3.9.8"
  }
 },
 "nbformat": 4,
 "nbformat_minor": 5
}
